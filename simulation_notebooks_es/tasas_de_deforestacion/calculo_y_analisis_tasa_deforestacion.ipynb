{
 "cells": [
  {
   "attachments": {},
   "cell_type": "markdown",
   "metadata": {},
   "source": [
    "# Cálculo y análisis de la tasa de deforestación"
   ]
  },
  {
   "cell_type": "code",
   "execution_count": 8,
   "metadata": {},
   "outputs": [],
   "source": [
    "#python3\n",
    "import pandas as pd\n",
    "import numpy as np\n",
    "import os\n",
    "import sys\n",
    "sys.path.insert(0, os.path.abspath('../..'))\n",
    "from landecology import deforestation_rate as dr"
   ]
  },
  {
   "attachments": {},
   "cell_type": "markdown",
   "metadata": {},
   "source": [
    "## Datos"
   ]
  },
  {
   "cell_type": "code",
   "execution_count": 3,
   "metadata": {},
   "outputs": [
    {
     "data": {
      "text/html": [
       "<div>\n",
       "<style scoped>\n",
       "    .dataframe tbody tr th:only-of-type {\n",
       "        vertical-align: middle;\n",
       "    }\n",
       "\n",
       "    .dataframe tbody tr th {\n",
       "        vertical-align: top;\n",
       "    }\n",
       "\n",
       "    .dataframe thead th {\n",
       "        text-align: right;\n",
       "    }\n",
       "</style>\n",
       "<table border=\"1\" class=\"dataframe\">\n",
       "  <thead>\n",
       "    <tr style=\"text-align: right;\">\n",
       "      <th></th>\n",
       "      <th>area_bosque</th>\n",
       "      <th>area_pastos</th>\n",
       "      <th>area_nubes</th>\n",
       "      <th>area_sindatos</th>\n",
       "    </tr>\n",
       "    <tr>\n",
       "      <th>año</th>\n",
       "      <th></th>\n",
       "      <th></th>\n",
       "      <th></th>\n",
       "      <th></th>\n",
       "    </tr>\n",
       "  </thead>\n",
       "  <tbody>\n",
       "    <tr>\n",
       "      <th>2000</th>\n",
       "      <td>16149333600</td>\n",
       "      <td>6367233600</td>\n",
       "      <td>433800</td>\n",
       "      <td>77598000</td>\n",
       "    </tr>\n",
       "    <tr>\n",
       "      <th>2010</th>\n",
       "      <td>14814712800</td>\n",
       "      <td>7660449000</td>\n",
       "      <td>41839200</td>\n",
       "      <td>77598000</td>\n",
       "    </tr>\n",
       "    <tr>\n",
       "      <th>2020</th>\n",
       "      <td>13526236800</td>\n",
       "      <td>8754103800</td>\n",
       "      <td>236660400</td>\n",
       "      <td>77598000</td>\n",
       "    </tr>\n",
       "  </tbody>\n",
       "</table>\n",
       "</div>"
      ],
      "text/plain": [
       "      area_bosque  area_pastos  area_nubes  area_sindatos\n",
       "año                                                      \n",
       "2000  16149333600   6367233600      433800       77598000\n",
       "2010  14814712800   7660449000    41839200       77598000\n",
       "2020  13526236800   8754103800   236660400       77598000"
      ]
     },
     "execution_count": 3,
     "metadata": {},
     "output_type": "execute_result"
    }
   ],
   "source": [
    "deforestation_df = pd.read_csv(\"./example_data_set.csv\", index_col=0)\n",
    "deforestation_df"
   ]
  },
  {
   "attachments": {},
   "cell_type": "markdown",
   "metadata": {},
   "source": [
    "## Resultados\n",
    "\n",
    "### Tasa de cambio anual del bosque (Puyravaud)"
   ]
  },
  {
   "cell_type": "code",
   "execution_count": 4,
   "metadata": {},
   "outputs": [],
   "source": [
    "# Define analysis parameters\n",
    "\n",
    "coberture_keyname = \"area_bosque\"\n",
    "years = sorted([2010, 2000])\n",
    "parameters: dict[str, float] = {\n",
    "            \"area_t1\": deforestation_df.loc[years[0]][coberture_keyname],\n",
    "            \"area_t2\": deforestation_df.loc[years[1]][coberture_keyname],\n",
    "            \"year_t1\": years[0],\n",
    "            \"year_t2\": years[1],\n",
    "        }\n",
    "rate_type = dr.DeforestationFormula.FOREST_CHANGE_PUYRAVAUD"
   ]
  },
  {
   "cell_type": "code",
   "execution_count": 29,
   "metadata": {},
   "outputs": [
    {
     "name": "stdout",
     "output_type": "stream",
     "text": [
      "La tasa de cambio de bosque (basado en Puyravaud) es: -0.86%\n"
     ]
    }
   ],
   "source": [
    "# Perform analysis\n",
    "forest_change = dr.DeforestationCalculator.calculate_deforestation_rate(rate_type, **parameters)\n",
    "print(\"La tasa de cambio de bosque (basado en {}) es: {:.2f}%\".format(rate_type.value, forest_change*100))"
   ]
  },
  {
   "attachments": {},
   "cell_type": "markdown",
   "metadata": {},
   "source": [
    "### Proyección para el 2020\n",
    "\n",
    "La tasa de cambio propuesta por Puyravaud (2003) es equivalente a lo que en ecología de poblaciones se denomina \"tasa intrínseca de crecimiento r\".\n",
    "\n",
    "Bajo el modelo exponencial:\n",
    "\n",
    "$A_t = A_0 \\cdot e^{r(t-t_0)}$"
   ]
  },
  {
   "cell_type": "code",
   "execution_count": 36,
   "metadata": {},
   "outputs": [
    {
     "name": "stdout",
     "output_type": "stream",
     "text": [
      "Area medida: 13526236800\n",
      "Area proyectada: 13590388358\n",
      "Error absoluto: 64151557.974340\n",
      "Error porcentual: 0.47\n"
     ]
    }
   ],
   "source": [
    "actual_area_2020 = deforestation_df.loc[2020][coberture_keyname]\n",
    "inferred_area_2020 = (lambda t: parameters[\"area_t1\"] * np.power(np.e, forest_change * t))(2020 - parameters[\"year_t1\"])\n",
    "print(\"Area medida: {}\\nArea proyectada: {:.0f}\".format(actual_area_2020, inferred_area_2020))\n",
    "absolute_error = inferred_area_2020 - actual_area_2020\n",
    "percent_error = np.abs(absolute_error/actual_area_2020)*100\n",
    "print(\"Error absoluto: {:0f}\\nError porcentual: {:.2f}\".format(absolute_error,percent_error))"
   ]
  },
  {
   "attachments": {},
   "cell_type": "markdown",
   "metadata": {},
   "source": [
    "## Referencias\n",
    "\n",
    "Puyravaud, J.-P. (2003). Standardizing the calculation of the annual rate of deforestation. Forest Ecology and Management, 177(1–3), 593–596. https://doi.org/10.1016/S0378-1127(02)00335-3"
   ]
  }
 ],
 "metadata": {
  "kernelspec": {
   "display_name": "Python 3",
   "language": "python",
   "name": "python3"
  },
  "language_info": {
   "codemirror_mode": {
    "name": "ipython",
    "version": 3
   },
   "file_extension": ".py",
   "mimetype": "text/x-python",
   "name": "python",
   "nbconvert_exporter": "python",
   "pygments_lexer": "ipython3",
   "version": "3.11.0"
  },
  "orig_nbformat": 4
 },
 "nbformat": 4,
 "nbformat_minor": 2
}
