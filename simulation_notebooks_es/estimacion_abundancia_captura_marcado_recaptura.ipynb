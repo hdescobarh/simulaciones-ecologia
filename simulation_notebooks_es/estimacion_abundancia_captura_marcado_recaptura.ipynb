{
 "cells": [
  {
   "attachments": {},
   "cell_type": "markdown",
   "metadata": {},
   "source": [
    "# Estimación de abundancia y densidad mediante métodos de captura-marcado-recaptura\n",
    "\n",
    "población cerrada\n",
    "\n",
    "$\\hat{p}$ varía en el tiempo (e.g. meterología, esfuerzo de captura), el espacio (e.g. hábitat), entre los individuos (sexo, edad, experiencia previa)\n",
    "\n",
    "1. Población cerrada.\n",
    "\n",
    "2. P(recaptura) = p(captura) y la distribución de probabilidad es homogenea\n",
    "\n",
    "3. No existe perdida de marcas."
   ]
  },
  {
   "attachments": {},
   "cell_type": "markdown",
   "metadata": {},
   "source": [
    "a. Atracción por la trampa y/o cebo.\n",
    "\n",
    "> aumenta la P(captura)\n",
    "\n",
    "b. Acostumbramiento a la trampa.\n",
    "\n",
    "> aumenta P(captura | marcado)\n",
    "\n",
    "c. Diferencias en técnicas de muestreo: tamaño de trampa, tipo de trampa\n",
    "\n",
    "> Altera la P(captura)\n",
    "\n",
    "d. Pérdida de las marcas.\n",
    "\n",
    "> P(perdida marca)\n",
    "\n",
    "e. Efecto de la marca en la sobrevivencia de los individuos\n",
    "\n",
    "> P(muerte | marcado)\n",
    "\n",
    "f. Efecto de la cacería en las estimaciones de tamaño poblacional\n",
    "\n",
    "> P(muerte) > 0"
   ]
  },
  {
   "attachments": {},
   "cell_type": "markdown",
   "metadata": {},
   "source": [
    "## Supuesto genérales\n",
    "\n",
    "a. Todos los individuos tienen igual e independiente probabilidad de ser capturados: muestras al azar.\n",
    "\n",
    "> Interpretación: las capturas son estádisticamente independientes e identicamente distribuidas (i.e. es una muestra aleatoria) con una distribución de probabilidad uniforme.\n",
    "\n",
    "$$\\forall x_i \\in \\{\\text{muestra}\\}, \\; P\\{x_i = captura\\} = P\\{X = captura\\}$$\n",
    "$$X \\sim U(0,1)$$\n",
    "\n",
    "b. No cambia la proporción marcados:no marcados, por nacimientos o inmigraciones.\n",
    "\n",
    "> Interpretación: es una población cerrada a entradas.\n",
    "\n",
    "c. Las pérdidas de individuos por muerte o emigración afecta igual a marcados y no marcados.\n",
    "\n",
    "> Interpretación: la población es abierta a salidas, ocurren por muerte o emigración y son estádisticamente independientes de la marca.\n",
    "\n",
    "$$P\\{\\text{muerte} \\lor \\text{emigrar} | \\text{marcado}\\} = P\\{\\text{muerte} \\lor \\text{emigrar} \\}$$\n",
    "\n",
    "d. Los individuos marcados se \"distribuyen homogeneamente\" con respecto a los no marcados.\n",
    "\n",
    "> Interpretación: no me es claro que quiere decir.\n",
    "\n",
    "e. Las marcas no afectan la probabilidad de recaptura.\n",
    "\n",
    "> Interpretación: la captura/recaptura es estádisticamente independiente de la presencia de marca.\n",
    "\n",
    "$$P\\{\\text{captura} | \\text{marca}\\} = P\\{\\text{captura} | \\text{NO marca}\\} = P\\{\\text{captura}\\}$$"
   ]
  },
  {
   "cell_type": "markdown",
   "metadata": {},
   "source": []
  }
 ],
 "metadata": {
  "kernelspec": {
   "display_name": "Python 3",
   "language": "python",
   "name": "python3"
  },
  "language_info": {
   "codemirror_mode": {
    "name": "ipython",
    "version": 3
   },
   "file_extension": ".py",
   "mimetype": "text/x-python",
   "name": "python",
   "nbconvert_exporter": "python",
   "pygments_lexer": "ipython3",
   "version": "3.11.0"
  },
  "orig_nbformat": 4
 },
 "nbformat": 4,
 "nbformat_minor": 2
}
