{
 "cells": [
  {
   "attachments": {},
   "cell_type": "markdown",
   "metadata": {},
   "source": [
    "# En construcción..."
   ]
  },
  {
   "attachments": {},
   "cell_type": "markdown",
   "metadata": {},
   "source": [
    "# Estimación de abundancia y densidad mediante métodos de captura-marcado-recaptura"
   ]
  },
  {
   "cell_type": "code",
   "execution_count": 9,
   "metadata": {},
   "outputs": [],
   "source": [
    "# python3\n",
    "# author: Hans D. Escobar. H - e-mail: escobar.hans@gmail.com\n",
    "\n",
    "import os\n",
    "import sys\n",
    "import numpy as np\n",
    "import pandas as pd\n",
    "from scipy.stats import norm\n",
    "from scipy.stats import t\n",
    "sys.path.insert(0, os.path.abspath('..'))\n",
    "from popecology import abundance_estimation_population_models as aspm\n",
    "from popecology.abundance_estimation_methods import LincolnPetersen"
   ]
  },
  {
   "attachments": {},
   "cell_type": "markdown",
   "metadata": {},
   "source": [
    "## Asunciones minimas de estos métodos\n",
    "\n",
    "1. Población cerrada. La abundancia (número total de animales) $N$ no cambia durante el tiempo de estudio.\n",
    "2. No existe perdida de marcas.\n",
    "3. La probabilidad de captura $\\hat{p}$ es __constante__:\n",
    "    - en el tiempo (e.g. meterología, esfuerzo de captura).\n",
    "    - en el espacio (e.g. hábitat)\n",
    "    - entre los individuos (sexo, edad, experiencia previa)."
   ]
  },
  {
   "cell_type": "code",
   "execution_count": 10,
   "metadata": {},
   "outputs": [],
   "source": [
    "single_simulation_parameters = {\n",
    "    \"initial_size\" : 1000,\n",
    "    \"capture_distribution\" : (0.2, 0.2),\n",
    "    \"death_distribution\" : (0, 0),\n",
    "    \"inmigration_rate\" : 0,\n",
    "    \"mark_lost_probability\" : 0}"
   ]
  },
  {
   "attachments": {},
   "cell_type": "markdown",
   "metadata": {},
   "source": [
    "### Lincoln-Petersen\n",
    "\n",
    "Los supuestos son los 3 generales, con las siguientes precisiones:\n",
    "\n",
    "- Para todo individuo $x_i$, $P(\\text{captura}\\:|\\:x_i) = \\hat{p}$\n",
    "- $P(\\text{captura}\\:|\\:\\text{previamente capturado}) = P(\\text{captura}\\:|\\:\\text{nunca capturado})$\n",
    "- $\\hat{p}_1$ puede ser diferente de $\\hat{p}_2$\n"
   ]
  },
  {
   "attachments": {},
   "cell_type": "markdown",
   "metadata": {},
   "source": [
    "Para este método tenemos 3 estimadores:\n",
    "    - Simple (sesgado)\n",
    "    - Corregido de Bailey (insesgado)\n",
    "    - Corregido de Chapman (insesgado)\n",
    "\n",
    "Por definición, un estimador insesgado es aquel estadistico cuyo valor esperado es igual al parametro de la población. Por teorema de los números grandes, a medida que el numero de muestras tiende a infinito este se acerca al valor esperado, vamos a emplearlo para verificar esta propiedad."
   ]
  },
  {
   "cell_type": "code",
   "execution_count": 11,
   "metadata": {},
   "outputs": [],
   "source": [
    "iteration_number = 10000\n",
    "true_population_size = 500\n",
    "single_simulation_parameters = {\n",
    "    \"initial_size\" : true_population_size,\n",
    "    \"capture_distribution\" : (0.082, 0.082),\n",
    "    \"death_distribution\" : (0, 0),\n",
    "    \"inmigration_rate\" : 0,\n",
    "    \"mark_lost_probability\" : 0}\n",
    "\n"
   ]
  },
  {
   "cell_type": "code",
   "execution_count": 12,
   "metadata": {},
   "outputs": [],
   "source": [
    "simulation_output = {\n",
    "    \"simple_estimator\": list(),\n",
    "    \"chapman_estimator\": list(),\n",
    "    \"chapman_sd_error\": list(),\n",
    "    \"bailey_estimator\": list(),\n",
    "    \"bailey_sd_error\": list(),\n",
    "}\n",
    "\n",
    "for trial in range(iteration_number):\n",
    "    current_simulation = aspm.CmrPopulation( **single_simulation_parameters)\n",
    "    captured = current_simulation.sample_and_mark(100)[current_simulation.unmarked_id]\n",
    "    recaptured_unmarked, recaptured_marked = current_simulation.sample_but_not_mark(100).values()\n",
    "    param = [captured, recaptured_unmarked, recaptured_marked]\n",
    "    simulation_output[\"simple_estimator\"].append(LincolnPetersen.simple_biased_statistic(*param))\n",
    "    chapman = list(LincolnPetersen.chapman_unbiased_summary(*param).values())\n",
    "    simulation_output[\"chapman_estimator\"].append(chapman[0])\n",
    "    simulation_output[\"chapman_sd_error\"].append(chapman[1])\n",
    "    bailey = list(LincolnPetersen.bailey_unbiased_summary(*param).values())\n",
    "    simulation_output[\"bailey_estimator\"].append(bailey[0])\n",
    "    simulation_output[\"bailey_sd_error\"].append(bailey[1])\n"
   ]
  },
  {
   "cell_type": "code",
   "execution_count": 13,
   "metadata": {},
   "outputs": [],
   "source": [
    "simulation_df = pd.DataFrame.from_dict(simulation_output)\n",
    "number_of_samples_without_recaptured_marked =len(simulation_df[simulation_df.simple_estimator == 0])\n",
    "# Remove samples without recaptured marked individuals\n",
    "simulation_df = simulation_df[simulation_df.simple_estimator != 0]\n"
   ]
  },
  {
   "cell_type": "code",
   "execution_count": 14,
   "metadata": {},
   "outputs": [
    {
     "data": {
      "text/plain": [
       "simple_estimator     421.325697\n",
       "chapman_estimator    422.780447\n",
       "bailey_estimator     430.349182\n",
       "dtype: float64"
      ]
     },
     "execution_count": 14,
     "metadata": {},
     "output_type": "execute_result"
    }
   ],
   "source": [
    "abs(simulation_df[[\"simple_estimator\", \"chapman_estimator\", \"bailey_estimator\"]].mean() - true_population_size)"
   ]
  },
  {
   "cell_type": "code",
   "execution_count": 15,
   "metadata": {},
   "outputs": [
    {
     "data": {
      "text/plain": [
       "[9, 7, 0]"
      ]
     },
     "execution_count": 15,
     "metadata": {},
     "output_type": "execute_result"
    }
   ],
   "source": [
    "current_simulation = aspm.CmrPopulation( **single_simulation_parameters)\n",
    "captured = current_simulation.sample_and_mark(100)[current_simulation.unmarked_id]\n",
    "recaptured_unmarked, recaptured_marked = current_simulation.sample_but_not_mark(100).values()\n",
    "[captured, recaptured_unmarked, recaptured_marked]"
   ]
  },
  {
   "cell_type": "code",
   "execution_count": 16,
   "metadata": {},
   "outputs": [
    {
     "data": {
      "text/plain": [
       "{'unmarked': 0, 'marked': 0}"
      ]
     },
     "execution_count": 16,
     "metadata": {},
     "output_type": "execute_result"
    }
   ],
   "source": [
    "current_simulation = aspm.CmrPopulation(\n",
    "        **single_simulation_parameters\n",
    "    )\n",
    "current_simulation.sample_and_mark(10)"
   ]
  },
  {
   "cell_type": "code",
   "execution_count": 17,
   "metadata": {},
   "outputs": [
    {
     "data": {
      "text/plain": [
       "[{'unmarked': 0, 'marked': 0}, {'unmarked': 0, 'marked': 0}]"
      ]
     },
     "execution_count": 17,
     "metadata": {},
     "output_type": "execute_result"
    }
   ],
   "source": [
    "current_simulation.sample_record"
   ]
  },
  {
   "cell_type": "code",
   "execution_count": 18,
   "metadata": {},
   "outputs": [
    {
     "data": {
      "text/plain": [
       "[{'unmarked': 500, 'marked': 0}, {'unmarked': 500, 'marked': 0}]"
      ]
     },
     "execution_count": 18,
     "metadata": {},
     "output_type": "execute_result"
    }
   ],
   "source": [
    "current_simulation.population_record"
   ]
  },
  {
   "cell_type": "code",
   "execution_count": 19,
   "metadata": {},
   "outputs": [
    {
     "data": {
      "text/plain": [
       "{'unmarked': 0, 'marked': 0}"
      ]
     },
     "execution_count": 19,
     "metadata": {},
     "output_type": "execute_result"
    }
   ],
   "source": [
    "current_simulation.sample_but_not_mark(10)\n"
   ]
  },
  {
   "attachments": {},
   "cell_type": "markdown",
   "metadata": {},
   "source": [
    "Cuál es el efecto de:\n",
    "\n",
    "a. Atracción por la trampa y/o cebo.\n",
    "\n",
    "> aumenta la P(captura)\n",
    "\n",
    "b. Acostumbramiento a la trampa.\n",
    "\n",
    "> P(captura | marcado) >   P(captura | no-marcado)\n",
    "\n",
    "c. Diferencias en técnicas de muestreo: tamaño de trampa, tipo de trampa\n",
    "\n",
    "> Altera la P(captura)\n",
    "\n",
    "d. Pérdida de las marcas.\n",
    "\n",
    "> P(perdida marca)\n",
    "\n",
    "e. Efecto de la marca en la sobrevivencia de los individuos\n",
    "\n",
    "> P(muerte | marcado) vs. P(muerte | no-marcado)\n",
    "\n",
    "f. Efecto de la cacería en las estimaciones de tamaño poblacional\n",
    "\n",
    "> P(muerte) > 0"
   ]
  }
 ],
 "metadata": {
  "kernelspec": {
   "display_name": "Python 3",
   "language": "python",
   "name": "python3"
  },
  "language_info": {
   "codemirror_mode": {
    "name": "ipython",
    "version": 3
   },
   "file_extension": ".py",
   "mimetype": "text/x-python",
   "name": "python",
   "nbconvert_exporter": "python",
   "pygments_lexer": "ipython3",
   "version": "3.11.0"
  },
  "orig_nbformat": 4
 },
 "nbformat": 4,
 "nbformat_minor": 2
}
